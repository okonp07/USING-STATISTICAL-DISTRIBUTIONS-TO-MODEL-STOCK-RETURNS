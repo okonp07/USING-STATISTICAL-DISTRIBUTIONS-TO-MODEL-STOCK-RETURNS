{
  "nbformat": 4,
  "nbformat_minor": 0,
  "metadata": {
    "colab": {
      "provenance": [],
      "authorship_tag": "ABX9TyOHHG20XoOBZNB9nDv8TTSd",
      "include_colab_link": true
    },
    "kernelspec": {
      "name": "python3",
      "display_name": "Python 3"
    },
    "language_info": {
      "name": "python"
    }
  },
  "cells": [
    {
      "cell_type": "markdown",
      "metadata": {
        "id": "view-in-github",
        "colab_type": "text"
      },
      "source": [
        "<a href=\"https://colab.research.google.com/github/okonp07/USING-STATISTICAL-DISTRIBUTIONS-TO-MODEL-STOCK-RETURNS/blob/main/USING_STATISTICAL_DISTRIBUTIONS_TO_MODEL_STOCK_RETURNS.ipynb\" target=\"_parent\"><img src=\"https://colab.research.google.com/assets/colab-badge.svg\" alt=\"Open In Colab\"/></a>"
      ]
    },
    {
      "cell_type": "markdown",
      "source": [
        "# USING STATISTICAL DISTRIBUTIONS TO MODEL STOCK RETURNS"
      ],
      "metadata": {
        "id": "e8L7W0oe4JLR"
      }
    },
    {
      "cell_type": "markdown",
      "source": [
        "*We looked at various ways to measure risk and returns in the last lesson. Here, we take that a step further by using distributions to correctly model risk and returns.*"
      ],
      "metadata": {
        "id": "sR19s-364Ws1"
      }
    },
    {
      "cell_type": "code",
      "source": [
        "import datetime\n",
        "\n",
        "import numpy as np\n",
        "import pandas as pd\n",
        "import pandas_datareader.data as web\n",
        "import seaborn as sns\n",
        "import yfinance as yfin\n",
        "from matplotlib import pyplot as plt\n",
        "from scipy import stats\n",
        "\n",
        "yfin.pdr_override()"
      ],
      "metadata": {
        "id": "qM58huMD4Qw6"
      },
      "execution_count": 1,
      "outputs": []
    },
    {
      "cell_type": "markdown",
      "source": [
        "c"
      ],
      "metadata": {
        "id": "JKd4k70Y4Ko6"
      }
    },
    {
      "cell_type": "code",
      "source": [
        "# start = datetime.date.today() - datetime.timedelta(365 * 20)\n",
        "# end = datetime.date.today()\n",
        "end = datetime.date(2021, 11, 20)\n",
        "start = end - datetime.timedelta(365 * 20)\n",
        "\n",
        "prices = pd.DataFrame(web.DataReader([\"^GSPC\"], start, end)[\"Adj Close\"])\n",
        "\n",
        "# Rename column to make names more intuitive\n",
        "prices = prices.rename(columns={\"Adj Close\": \"SP500\"})\n",
        "df = np.log(prices) - np.log(prices.shift(1))\n",
        "df = df.iloc[1:, 0:]"
      ],
      "metadata": {
        "colab": {
          "base_uri": "https://localhost:8080/"
        },
        "id": "6zcgt9zt5VPH",
        "outputId": "bbe4bd7e-6404-4fbb-d2c9-6ca80b618b4b"
      },
      "execution_count": 2,
      "outputs": [
        {
          "output_type": "stream",
          "name": "stdout",
          "text": [
            "\r[*********************100%***********************]  1 of 1 completed\n"
          ]
        }
      ]
    },
    {
      "cell_type": "markdown",
      "source": [
        "### 1.1 Are returns symmetric?\n",
        "\n",
        "One quick way of doing this is to determine how many data points we have on either side of the mean here. We have a bit more then 5,000 data points here. The below code takes the count of data points greater than the mean and divides it by the total data points. This will give us the percentage of data points greater than the mean"
      ],
      "metadata": {
        "id": "mfmdm8yD4Kud"
      }
    },
    {
      "cell_type": "code",
      "source": [
        "(len(df[df.SP500 > df.SP500.mean()])) / (len(df))"
      ],
      "metadata": {
        "colab": {
          "base_uri": "https://localhost:8080/"
        },
        "id": "Dn1gmTLj5voh",
        "outputId": "30bcae85-606f-49cf-d0b1-b8aa499288f5"
      },
      "execution_count": 3,
      "outputs": [
        {
          "output_type": "execute_result",
          "data": {
            "text/plain": [
              "0.5262321144674086"
            ]
          },
          "metadata": {},
          "execution_count": 3
        }
      ]
    },
    {
      "cell_type": "markdown",
      "source": [
        "We're getting about 52.6% of data points being greater than the mean, which shows we have a slightly negative skew to this dataset. We can't rule out symmetric returns based on this since it is only a sample of data and is reasonably close to the 50% mark. This makes it hard to say for certain whether S&P 500 returns are symmetric or not, but it is still a reasonable assumption to make here. Also, keep in mind there should be a slight bias towards positive returns anyways, if for no other reason than some drift from inflation."
      ],
      "metadata": {
        "id": "CItipOTt4Kz3"
      }
    },
    {
      "cell_type": "markdown",
      "source": [
        "### 1.2 Is Volatility constant?"
      ],
      "metadata": {
        "id": "NS3zIkK34K3k"
      }
    },
    {
      "cell_type": "code",
      "source": [
        "vols = pd.DataFrame(df.SP500.rolling(50).std()).rename(columns={\"SP500\": \"S&P 500 STD\"})\n",
        "\n",
        "# set figure size\n",
        "plt.figure(figsize=(12, 5))\n",
        "\n",
        "# plot using rolling average\n",
        "sns.lineplot(\n",
        "    x=\"Date\",\n",
        "    y=\"S&P 500 STD\",\n",
        "    data=vols,\n",
        "    label=\"S&P 500 50 day standard deviation rolling avg\",\n",
        ")\n",
        "plt.show()"
      ],
      "metadata": {
        "colab": {
          "base_uri": "https://localhost:8080/",
          "height": 465
        },
        "id": "bcF5pdGp6E01",
        "outputId": "642537d5-6e30-4b31-9aa4-743ca53ca24d"
      },
      "execution_count": 4,
      "outputs": [
        {
          "output_type": "display_data",
          "data": {
            "text/plain": [
              "<Figure size 1200x500 with 1 Axes>"
            ],
            "image/png": "[encoded data removed]"
          },
          "metadata": {}
        }
      ]
    },
    {
      "cell_type": "markdown",
      "source": [
        "Above, we calculate a rolling average of the standard deviation and then make a line chart of it. It can be clearly seen that volatility is anything but constant. This adds another layer of complexity to modeling stock returns, especially the many models which assume constant volatility"
      ],
      "metadata": {
        "id": "IXTrpElj4K6s"
      }
    },
    {
      "cell_type": "markdown",
      "source": [
        "## 2. Are Stock Returns Normally Distributed?\n",
        "The normal distribution is one of the most common distributions used in modeling random variables. Indeed, many phenomena in the natural and social sciences can be modeled by normal distribution. One of the great advantages of the normal distribution is its simplicity. We can completely describe a normal distribution through two numbers: one for the center of the distribution and one for the uncertainty about that center. The first number refers to the mean, and the second number refers to the standard deviation.\n",
        "\n",
        "Once we have these two numbers, we can draw inferences, estimate percentiles, compute probabilities that a point falls within a region, and more. If our data is well-represented by the normal distribution, then we can confidently use the mean and standard deviation to report our portfolio expected returns and volatilities. If our data is not well represented by the normal distribution, then we need to find other distributions that are more suitable. Thus, when we have a distribution of stock returns, for example, we'll want to start this assessment by visualizing the returns to see if they appear to be normal. Of course, we can follow this up with more quantitative assessments by running statistical tests.\n",
        "\n",
        "We can visualize the data using the hist() method. We pass in bins = 100 as a parameter to determine the amount of buckets to place the data in. The more bins you have, the more granular the data will look in a histogram. Increasing the bins too much may result in slightly noisy data, which will make it tougher to determine a normal distribution. The chart in Figure 3 looks like it could be normally distributed, but we need to be a little more scientific to determine if that's actually the case or not."
      ],
      "metadata": {
        "id": "kY_q-GIU4K9u"
      }
    },
    {
      "cell_type": "code",
      "source": [
        "df.hist(bins=100);"
      ],
      "metadata": {
        "colab": {
          "base_uri": "https://localhost:8080/",
          "height": 452
        },
        "id": "750hsuK761ww",
        "outputId": "efda0881-f286-4897-d6e9-651a8f035132"
      },
      "execution_count": 5,
      "outputs": [
        {
          "output_type": "display_data",
          "data": {
            "text/plain": [
              "<Figure size 640x480 with 1 Axes>"
            ],
            "image/png": "[encoded data removed]"
          },
          "metadata": {}
        }
      ]
    },
    {
      "cell_type": "markdown",
      "source": [
        "### 2.1 Conducting a normality test"
      ],
      "metadata": {
        "id": "mYxYpgcD4LAP"
      }
    },
    {
      "cell_type": "code",
      "source": [
        "stats.normaltest((np.array(df.SP500)))"
      ],
      "metadata": {
        "colab": {
          "base_uri": "https://localhost:8080/"
        },
        "id": "Sd4bWcOl7AVz",
        "outputId": "f32f9f2c-bcdd-4dc7-c345-0e601fed894f"
      },
      "execution_count": 6,
      "outputs": [
        {
          "output_type": "execute_result",
          "data": {
            "text/plain": [
              "NormaltestResult(statistic=1157.9334577500736, pvalue=3.613636331694425e-252)"
            ]
          },
          "metadata": {},
          "execution_count": 6
        }
      ]
    },
    {
      "cell_type": "markdown",
      "source": [
        "We can use the `normaltest()` method here to determine if the sample data could fit a normal distribution. This method uses D’Agostino and Pearson’s normality test, which combines skew and kurtosis to produce an omnibus test of normality.\n",
        "\n",
        "The null hypothesis of this test is that the sample data fits a normal distribution. Let's assume we want to be 90% confident this data fits a normal distribution. We can compare this to the p-value to see if it's greater than 90%. In this case, the value, 2.43e-252, is extremely small, which leads us to reject the null hypothesis that this data fits a normal distribution.\n"
      ],
      "metadata": {
        "id": "LJtev-E64LC9"
      }
    },
    {
      "cell_type": "markdown",
      "source": [
        "### 2.2 Testing Skewness and Kurtosis\n",
        "As one added testing step, we can test the skewness and kurtosis of our distribution using the Jarque-Bera test. The test statistic will always be greater than zero. The further the test statistic is from zero, the more likely the sample data does not match a normal distribution.\n",
        "\n",
        "Lucky for us, Python has another library for us to use here which really simplifies the analysis. From the `scipy.stats` library, we can use the `jarque_bera()` method directly to our data to get test statistic \n"
      ],
      "metadata": {
        "id": "B6ZWicBn4LGE"
      }
    },
    {
      "cell_type": "code",
      "source": [
        "stats.jarque_bera((np.array(df.SP500))).pvalue"
      ],
      "metadata": {
        "colab": {
          "base_uri": "https://localhost:8080/"
        },
        "id": "TWNEJj_n8n15",
        "outputId": "d67ca8ef-946b-4638-a034-0ae1f07fb7dd"
      },
      "execution_count": 7,
      "outputs": [
        {
          "output_type": "execute_result",
          "data": {
            "text/plain": [
              "0.0"
            ]
          },
          "metadata": {},
          "execution_count": 7
        }
      ]
    },
    {
      "cell_type": "markdown",
      "source": [
        "The p value of our data here shows once and for all that there is virtually zero chance our sample data is normally distributed"
      ],
      "metadata": {
        "id": "K1sqrJ-i4LIj"
      }
    },
    {
      "cell_type": "markdown",
      "source": [
        "### 2.3 Where Does Our Gaussian Distribution Break Down?\n",
        "So according to the normality test, our data is not normally distributed despite the histogram looking like it may be. So, why is the data failing the normality test? The answer likely comes down to fat tails. Fat tails essentially means that extreme events +/-3 standard deviations away from the mean) are more likely than the normal distribution would imply.\n",
        "\n",
        "Assuming a normal distribution with a mean of 0.00028 and standard deviation of 0.012, we can determine the probability of any return given that the returns fit a normal distribution.\n",
        "\n",
        "To determine how many standard deviations away from the mean a specific number is, we need to use \n",
        "\n",
        "$$\\frac{X - \\bar{X}}{\\text{Sample standard deviation}}$$\n",
        "\n",
        " Let's do this for the min and max of the sample data:"
      ],
      "metadata": {
        "id": "IrlitkPv4LLi"
      }
    },
    {
      "cell_type": "code",
      "source": [
        "dfMax = df.SP500.max()\n",
        "dfMin = df.SP500.min()\n",
        "print(\n",
        "    \"Min return of sample data is %.4f and the maximum return of sample data is %.4f\"\n",
        "    % (dfMin, dfMax)\n",
        ")"
      ],
      "metadata": {
        "colab": {
          "base_uri": "https://localhost:8080/"
        },
        "id": "XlxALR1w9A_5",
        "outputId": "a212fb4b-2779-43b3-bcdf-bb400328cd44"
      },
      "execution_count": 8,
      "outputs": [
        {
          "output_type": "stream",
          "name": "stdout",
          "text": [
            "Min return of sample data is -0.1277 and the maximum return of sample data is 0.1096\n"
          ]
        }
      ]
    },
    {
      "cell_type": "code",
      "source": [
        "df.SP500.max()"
      ],
      "metadata": {
        "colab": {
          "base_uri": "https://localhost:8080/"
        },
        "id": "tbApCHOp9Kt-",
        "outputId": "71ffe0fe-860e-4a41-c46b-bbc4496cf289"
      },
      "execution_count": 9,
      "outputs": [
        {
          "output_type": "execute_result",
          "data": {
            "text/plain": [
              "0.10957196759533883"
            ]
          },
          "metadata": {},
          "execution_count": 9
        }
      ]
    },
    {
      "cell_type": "code",
      "source": [
        "df.SP500.min()"
      ],
      "metadata": {
        "colab": {
          "base_uri": "https://localhost:8080/"
        },
        "id": "6FPrYJxT9KxG",
        "outputId": "d4aca88f-5d65-4476-dc9d-5b62eb4b9154"
      },
      "execution_count": 10,
      "outputs": [
        {
          "output_type": "execute_result",
          "data": {
            "text/plain": [
              "-0.12765219747281709"
            ]
          },
          "metadata": {},
          "execution_count": 10
        }
      ]
    },
    {
      "cell_type": "code",
      "source": [
        "(df.SP500.min() - df.SP500.mean()) / df.SP500.std()"
      ],
      "metadata": {
        "colab": {
          "base_uri": "https://localhost:8080/"
        },
        "id": "IARJHIhH9K0Q",
        "outputId": "c2e3d5f4-d908-445e-eed8-fe0ef9d41467"
      },
      "execution_count": 11,
      "outputs": [
        {
          "output_type": "execute_result",
          "data": {
            "text/plain": [
              "-10.454892010611209"
            ]
          },
          "metadata": {},
          "execution_count": 11
        }
      ]
    },
    {
      "cell_type": "code",
      "source": [
        "(df.SP500.max() - df.SP500.mean()) / df.SP500.std()"
      ],
      "metadata": {
        "colab": {
          "base_uri": "https://localhost:8080/"
        },
        "id": "--7dx_vH9K3r",
        "outputId": "802a2628-4ce6-451d-b2a2-f204d82ec3c1"
      },
      "execution_count": 12,
      "outputs": [
        {
          "output_type": "execute_result",
          "data": {
            "text/plain": [
              "8.931814347341954"
            ]
          },
          "metadata": {},
          "execution_count": 12
        }
      ]
    },
    {
      "cell_type": "markdown",
      "source": [
        "Over the last 20 years, S&P 500 has had a maximum daily return of 10.96% and a minimum daily return of -12.77%. If we use the formula to determine standard deviations from the mean, we get -10.5 and 8.9 standard deviations away from the mean for the minimum and maximum, respectively. These standard deviations are humongous when compared to the normal distribution. We can see this analytically when we plug in the z score to the `norm.cdf()` method to determine the probability this value could be in a normal distribution:"
      ],
      "metadata": {
        "id": "joV4ZaIM9hkZ"
      }
    },
    {
      "cell_type": "code",
      "source": [
        "stats.norm.cdf(-10.45)"
      ],
      "metadata": {
        "colab": {
          "base_uri": "https://localhost:8080/"
        },
        "id": "EXT9_QKC_Mdt",
        "outputId": "68bf8105-c4a1-4545-fe3e-85f5a265458b"
      },
      "execution_count": 13,
      "outputs": [
        {
          "output_type": "execute_result",
          "data": {
            "text/plain": [
              "7.326261431744285e-26"
            ]
          },
          "metadata": {},
          "execution_count": 13
        }
      ]
    },
    {
      "cell_type": "markdown",
      "source": [
        "ts.norm.cdf(-10.45)\n",
        "This implies that the chance we could have a move as small as -12.77%, is 7.326261431744285e-26. This probability is so low that we would never expect an event like this to happen in our lifetime. We have multiple events like this, as illustrated by the minimum and maximum.\n",
        "\n",
        "Going further with this idea, based on normal distribution z tables, we would expect 99.7% of our data points to be within +/- 3 standard deviations from the mean. Let's determine this for our sample data. First off, we need to find the cut-off values at +/- 3 standard deviations:"
      ],
      "metadata": {
        "id": "vATfF2s_4LOU"
      }
    },
    {
      "cell_type": "code",
      "execution_count": 14,
      "metadata": {
        "colab": {
          "base_uri": "https://localhost:8080/"
        },
        "id": "DQFAGmmi4Gfz",
        "outputId": "336d2813-1295-4ffe-dc46-bf130e7bf6f8"
      },
      "outputs": [
        {
          "output_type": "execute_result",
          "data": {
            "text/plain": [
              "0.0369877090882083"
            ]
          },
          "metadata": {},
          "execution_count": 14
        }
      ],
      "source": [
        "(3 * df.SP500.std()) + df.SP500.mean()"
      ]
    },
    {
      "cell_type": "code",
      "source": [
        "(-3 * df.SP500.std()) + df.SP500.mean()"
      ],
      "metadata": {
        "colab": {
          "base_uri": "https://localhost:8080/"
        },
        "id": "VPUcF6_w_YDR",
        "outputId": "d1c2dc66-5b6e-4e66-8c4f-4ef27be1b382"
      },
      "execution_count": 15,
      "outputs": [
        {
          "output_type": "execute_result",
          "data": {
            "text/plain": [
              "-0.036430898700474966"
            ]
          },
          "metadata": {},
          "execution_count": 15
        }
      ]
    },
    {
      "cell_type": "markdown",
      "source": [
        "The above two calculations would imply that 99.7% of all of our data points should be in between -0.0364 and 0.03699. Since we have 5,031 data points, we would expect about 15 of them to be outside of that range."
      ],
      "metadata": {
        "id": "CVtFRCZk_icB"
      }
    },
    {
      "cell_type": "code",
      "source": [
        "df[(df[\"SP500\"] > 0.03699) | (df[\"SP500\"] < -0.0364)].tail()"
      ],
      "metadata": {
        "colab": {
          "base_uri": "https://localhost:8080/",
          "height": 238
        },
        "id": "0lZ9zvN4_scm",
        "outputId": "02e542d6-9876-455e-a2fb-63801537464f"
      },
      "execution_count": 16,
      "outputs": [
        {
          "output_type": "execute_result",
          "data": {
            "text/plain": [
              "               SP500\n",
              "Date                \n",
              "2020-03-24  0.089683\n",
              "2020-03-26  0.060544\n",
              "2020-04-01 -0.045146\n",
              "2020-04-06  0.067968\n",
              "2020-06-11 -0.060753"
            ],
            "text/html": [
              "\n",
              "  <div id=\"df-996e36f7-bef1-4eef-9baa-bb23e2037572\">\n",
              "    <div class=\"colab-df-container\">\n",
              "      <div>\n",
              "<style scoped>\n",
              "    .dataframe tbody tr th:only-of-type {\n",
              "        vertical-align: middle;\n",
              "    }\n",
              "\n",
              "    .dataframe tbody tr th {\n",
              "        vertical-align: top;\n",
              "    }\n",
              "\n",
              "    .dataframe thead th {\n",
              "        text-align: right;\n",
              "    }\n",
              "</style>\n",
              "<table border=\"1\" class=\"dataframe\">\n",
              "  <thead>\n",
              "    <tr style=\"text-align: right;\">\n",
              "      <th></th>\n",
              "      <th>SP500</th>\n",
              "    </tr>\n",
              "    <tr>\n",
              "      <th>Date</th>\n",
              "      <th></th>\n",
              "    </tr>\n",
              "  </thead>\n",
              "  <tbody>\n",
              "    <tr>\n",
              "      <th>2020-03-24</th>\n",
              "      <td>0.089683</td>\n",
              "    </tr>\n",
              "    <tr>\n",
              "      <th>2020-03-26</th>\n",
              "      <td>0.060544</td>\n",
              "    </tr>\n",
              "    <tr>\n",
              "      <th>2020-04-01</th>\n",
              "      <td>-0.045146</td>\n",
              "    </tr>\n",
              "    <tr>\n",
              "      <th>2020-04-06</th>\n",
              "      <td>0.067968</td>\n",
              "    </tr>\n",
              "    <tr>\n",
              "      <th>2020-06-11</th>\n",
              "      <td>-0.060753</td>\n",
              "    </tr>\n",
              "  </tbody>\n",
              "</table>\n",
              "</div>\n",
              "      <button class=\"colab-df-convert\" onclick=\"convertToInteractive('df-996e36f7-bef1-4eef-9baa-bb23e2037572')\"\n",
              "              title=\"Convert this dataframe to an interactive table.\"\n",
              "              style=\"display:none;\">\n",
              "        \n",
              "  <svg xmlns=\"http://www.w3.org/2000/svg\" height=\"24px\"viewBox=\"0 0 24 24\"\n",
              "       width=\"24px\">\n",
              "    <path d=\"M0 0h24v24H0V0z\" fill=\"none\"/>\n",
              "    <path d=\"M18.56 5.44l.94 2.06.94-2.06 2.06-.94-2.06-.94-.94-2.06-.94 2.06-2.06.94zm-11 1L8.5 8.5l.94-2.06 2.06-.94-2.06-.94L8.5 2.5l-.94 2.06-2.06.94zm10 10l.94 2.06.94-2.06 2.06-.94-2.06-.94-.94-2.06-.94 2.06-2.06.94z\"/><path d=\"M17.41 7.96l-1.37-1.37c-.4-.4-.92-.59-1.43-.59-.52 0-1.04.2-1.43.59L10.3 9.45l-7.72 7.72c-.78.78-.78 2.05 0 2.83L4 21.41c.39.39.9.59 1.41.59.51 0 1.02-.2 1.41-.59l7.78-7.78 2.81-2.81c.8-.78.8-2.07 0-2.86zM5.41 20L4 18.59l7.72-7.72 1.47 1.35L5.41 20z\"/>\n",
              "  </svg>\n",
              "      </button>\n",
              "      \n",
              "  <style>\n",
              "    .colab-df-container {\n",
              "      display:flex;\n",
              "      flex-wrap:wrap;\n",
              "      gap: 12px;\n",
              "    }\n",
              "\n",
              "    .colab-df-convert {\n",
              "      background-color: #E8F0FE;\n",
              "      border: none;\n",
              "      border-radius: 50%;\n",
              "      cursor: pointer;\n",
              "      display: none;\n",
              "      fill: #1967D2;\n",
              "      height: 32px;\n",
              "      padding: 0 0 0 0;\n",
              "      width: 32px;\n",
              "    }\n",
              "\n",
              "    .colab-df-convert:hover {\n",
              "      background-color: #E2EBFA;\n",
              "      box-shadow: 0px 1px 2px rgba(60, 64, 67, 0.3), 0px 1px 3px 1px rgba(60, 64, 67, 0.15);\n",
              "      fill: #174EA6;\n",
              "    }\n",
              "\n",
              "    [theme=dark] .colab-df-convert {\n",
              "      background-color: #3B4455;\n",
              "      fill: #D2E3FC;\n",
              "    }\n",
              "\n",
              "    [theme=dark] .colab-df-convert:hover {\n",
              "      background-color: #434B5C;\n",
              "      box-shadow: 0px 1px 3px 1px rgba(0, 0, 0, 0.15);\n",
              "      filter: drop-shadow(0px 1px 2px rgba(0, 0, 0, 0.3));\n",
              "      fill: #FFFFFF;\n",
              "    }\n",
              "  </style>\n",
              "\n",
              "      <script>\n",
              "        const buttonEl =\n",
              "          document.querySelector('#df-996e36f7-bef1-4eef-9baa-bb23e2037572 button.colab-df-convert');\n",
              "        buttonEl.style.display =\n",
              "          google.colab.kernel.accessAllowed ? 'block' : 'none';\n",
              "\n",
              "        async function convertToInteractive(key) {\n",
              "          const element = document.querySelector('#df-996e36f7-bef1-4eef-9baa-bb23e2037572');\n",
              "          const dataTable =\n",
              "            await google.colab.kernel.invokeFunction('convertToInteractive',\n",
              "                                                     [key], {});\n",
              "          if (!dataTable) return;\n",
              "\n",
              "          const docLinkHtml = 'Like what you see? Visit the ' +\n",
              "            '<a target=\"_blank\" href=https://colab.research.google.com/notebooks/data_table.ipynb>data table notebook</a>'\n",
              "            + ' to learn more about interactive tables.';\n",
              "          element.innerHTML = '';\n",
              "          dataTable['output_type'] = 'display_data';\n",
              "          await google.colab.output.renderOutput(dataTable, element);\n",
              "          const docLink = document.createElement('div');\n",
              "          docLink.innerHTML = docLinkHtml;\n",
              "          element.appendChild(docLink);\n",
              "        }\n",
              "      </script>\n",
              "    </div>\n",
              "  </div>\n",
              "  "
            ]
          },
          "metadata": {},
          "execution_count": 16
        }
      ]
    },
    {
      "cell_type": "code",
      "source": [
        "len(df[(df[\"SP500\"] > 0.05) | (df[\"SP500\"] < -0.05)])"
      ],
      "metadata": {
        "colab": {
          "base_uri": "https://localhost:8080/"
        },
        "id": "ZPFLOFH0_vZB",
        "outputId": "ad823173-f16a-4cab-a8a7-70a0240f32a0"
      },
      "execution_count": 17,
      "outputs": [
        {
          "output_type": "execute_result",
          "data": {
            "text/plain": [
              "36"
            ]
          },
          "metadata": {},
          "execution_count": 17
        }
      ]
    },
    {
      "cell_type": "markdown",
      "source": [
        "Not only do we get 85 values outside of our 3 standard deviation range, but we also get 36 values outside of +/- 5%, though you would almost never expect one of these events over 20 years, given a normal distribution.\n",
        "\n",
        "In this next video, we go over how to leverage Python in order to test for normality of our data."
      ],
      "metadata": {
        "id": "8VnP5ZTb_ie3"
      }
    },
    {
      "cell_type": "code",
      "source": [
        "from IPython.display import VimeoVideo\n",
        "\n",
        "VimeoVideo(\"706653140\", h=\"47eb01d16b\", width=600)"
      ],
      "metadata": {
        "colab": {
          "base_uri": "https://localhost:8080/",
          "height": 321
        },
        "id": "OcsaB-Jg_714",
        "outputId": "8ba16134-1993-427f-8a73-f784b622161b"
      },
      "execution_count": 18,
      "outputs": [
        {
          "output_type": "execute_result",
          "data": {
            "text/plain": [
              "<IPython.lib.display.VimeoVideo at 0x7ffb5913b790>"
            ],
            "text/html": [
              "\n",
              "        <iframe\n",
              "            width=\"600\"\n",
              "            height=\"300\"\n",
              "            src=\"https://player.vimeo.com/video/706653140?h=47eb01d16b\"\n",
              "            frameborder=\"0\"\n",
              "            allowfullscreen\n",
              "            \n",
              "        ></iframe>\n",
              "        "
            ]
          },
          "metadata": {},
          "execution_count": 18
        }
      ]
    },
    {
      "cell_type": "markdown",
      "source": [
        "All this analysis does is basically prove that we have fat tails in our sample data, which is why the normal distribution is not suitable for modeling stock returns.\n"
      ],
      "metadata": {
        "id": "LrvWQ9mP_iic"
      }
    },
    {
      "cell_type": "markdown",
      "source": [
        "## 3. Non-Gaussian Distributions\n",
        "\n",
        "One potential alternative distribution we could use to forecast stock returns is the Student's t-distribution. This is very similar to a normal distribution except it has heavier tails. Theoretically, this sounds perfect for daily returns based on what we’ve seen up to this point.\n",
        "\n",
        "Since we have 5,031 data points, we have 5,030 degrees of freedom. We can plug these numbers right into `stats.t.rvs()` method to see a sample t-distribution and chart it:"
      ],
      "metadata": {
        "id": "3Ah-rWepB7XK"
      }
    },
    {
      "cell_type": "code",
      "source": [
        "np.random.seed(555)\n",
        "stats.t.rvs(df=5030, size=5000)"
      ],
      "metadata": {
        "colab": {
          "base_uri": "https://localhost:8080/"
        },
        "id": "b5AwUrcA_glQ",
        "outputId": "655841f8-6673-4def-9bc9-c495552af082"
      },
      "execution_count": 19,
      "outputs": [
        {
          "output_type": "execute_result",
          "data": {
            "text/plain": [
              "array([ 0.14771609,  1.16828697,  0.33556735, ...,  0.67286373,\n",
              "        0.70084191, -0.31366766])"
            ]
          },
          "metadata": {},
          "execution_count": 19
        }
      ]
    },
    {
      "cell_type": "code",
      "source": [
        "# generate t distribution with sample size 10000\n",
        "x = stats.t.rvs(df=5030, size=10000)\n",
        "\n",
        "# create plot of t distribution\n",
        "plt.hist(x, density=True, edgecolor=\"black\", bins=50)"
      ],
      "metadata": {
        "colab": {
          "base_uri": "https://localhost:8080/",
          "height": 812
        },
        "id": "FQoF0DyWFcil",
        "outputId": "82fd1506-86b7-4d0a-df53-e623c3d3a023"
      },
      "execution_count": 20,
      "outputs": [
        {
          "output_type": "execute_result",
          "data": {
            "text/plain": [
              "(array([0.00410787, 0.00273858, 0.00410787, 0.0075311 , 0.00890039,\n",
              "        0.01437756, 0.01848543, 0.02670118, 0.03217835, 0.04381733,\n",
              "        0.06641064, 0.08626536, 0.1033815 , 0.13008269, 0.1677382 ,\n",
              "        0.19923191, 0.2245638 , 0.25194963, 0.29713625, 0.32452207,\n",
              "        0.35601578, 0.39161736, 0.41557996, 0.38066302, 0.36491617,\n",
              "        0.39777917, 0.38203232, 0.33205318, 0.32109885, 0.25948073,\n",
              "        0.25263427, 0.22524844, 0.18348505, 0.13145198, 0.12186694,\n",
              "        0.09174253, 0.06777993, 0.0403941 , 0.04244804, 0.0239626 ,\n",
              "        0.01506221, 0.01369291, 0.00890039, 0.00273858, 0.00479252,\n",
              "        0.00342323, 0.        , 0.        , 0.00068465, 0.00068465]),\n",
              " array([-3.45444853, -3.30838759, -3.16232665, -3.01626571, -2.87020476,\n",
              "        -2.72414382, -2.57808288, -2.43202194, -2.28596099, -2.13990005,\n",
              "        -1.99383911, -1.84777817, -1.70171722, -1.55565628, -1.40959534,\n",
              "        -1.2635344 , -1.11747345, -0.97141251, -0.82535157, -0.67929063,\n",
              "        -0.53322968, -0.38716874, -0.2411078 , -0.09504686,  0.05101408,\n",
              "         0.19707503,  0.34313597,  0.48919691,  0.63525785,  0.7813188 ,\n",
              "         0.92737974,  1.07344068,  1.21950162,  1.36556257,  1.51162351,\n",
              "         1.65768445,  1.80374539,  1.94980634,  2.09586728,  2.24192822,\n",
              "         2.38798916,  2.53405011,  2.68011105,  2.82617199,  2.97223293,\n",
              "         3.11829387,  3.26435482,  3.41041576,  3.5564767 ,  3.70253764,\n",
              "         3.84859859]),\n",
              " <BarContainer object of 50 artists>)"
            ]
          },
          "metadata": {},
          "execution_count": 20
        },
        {
          "output_type": "display_data",
          "data": {
            "text/plain": [
              "<Figure size 640x480 with 1 Axes>"
            ],
            "image/png": "[encoded data removed]"
          },
          "metadata": {}
        }
      ]
    },
    {
      "cell_type": "markdown",
      "source": [
        "We can also use the `ttest_ind` method to determine the probability that our returns came from the same sample distribution as in above figure\n"
      ],
      "metadata": {
        "id": "eu1V2FuvFlyM"
      }
    },
    {
      "cell_type": "code",
      "source": [
        "t_stat, p = stats.ttest_ind(df[\"SP500\"], stats.t.rvs(df=5030, size=5031))\n",
        "print(f\"t={t_stat}, p={p}\")"
      ],
      "metadata": {
        "colab": {
          "base_uri": "https://localhost:8080/"
        },
        "id": "arlF9V-0_goI",
        "outputId": "9b7d19ed-07b8-401e-9fe0-8576662ca0a8"
      },
      "execution_count": 21,
      "outputs": [
        {
          "output_type": "stream",
          "name": "stdout",
          "text": [
            "t=-0.20680583313400858, p=0.8361656854653299\n"
          ]
        }
      ]
    },
    {
      "cell_type": "markdown",
      "source": [
        "Here, we get a p-value of 0.836, which means we would reject the null hypothesis at a 95% confidence level that these values come from the same data as the sample. There are two main things to point out here:\n",
        "\n",
        "* While the p-value is less than 0.95, it’s still not too far off, and it's magnitudes closer to being true than the normal distribution we showed before. This indicates that this distribution is much better to use when modeling daily returns than the normal distribution. \n",
        "* This p-value is highly reliant on the sample data we have here. Every time we run that cell, we get different sample data, which also means different p-values. "
      ],
      "metadata": {
        "id": "rZ8ay-WaFzol"
      }
    },
    {
      "cell_type": "markdown",
      "source": [
        "## 4. Conclusion\n",
        "\n",
        "In this lesson, we focused for the first time on comparing daily stock return data to normal distributions. We also touched on other potential distributions we could use to model this data. In the next module, we will take what we've learned thus far and apply it to a portfolio setting instead of just looking at individual assets in isolation"
      ],
      "metadata": {
        "id": "0aGp5ekgF86I"
      }
    },
    {
      "cell_type": "markdown",
      "source": [
        "**References**\n",
        "\n",
        "- D'Agostino, Ralph B. “An Omnibus Test of Normality for Moderate and Large Size Samples.” *Biometrika*, vol. 58, no. 2, 1971, pp. 341–348, https://doi.org/10.1093/biomet/58.2.341."
      ],
      "metadata": {
        "id": "BTG1p9eJGE2Y"
      }
    },
    {
      "cell_type": "code",
      "source": [],
      "metadata": {
        "id": "9-AgvBpLGFww"
      },
      "execution_count": null,
      "outputs": []
    }
  ]
}